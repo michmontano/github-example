{
 "cells": [
  {
   "cell_type": "markdown",
   "metadata": {},
   "source": [
    "# Capstone_project_The Battle of Neighborhoods_Week 1"
   ]
  },
  {
   "cell_type": "markdown",
   "metadata": {},
   "source": [
    "## 1 Introduction\n",
    "### 1.1 Background\n",
    "Toronto is the most populous city in Canada and an international centre of business, finance, arts, and culture. Also, it is one of the most multicultural and cosmopolitan cities in the world.\\\n",
    "New York is the most populous major city in the United States. It has been described as the cultural, financial, and media capital of the world.\\\n",
    "Paris is the capital of France and densely populated. It is also one of major centres of finance, diplomacy, commerce, fashion, science and arts in Europe.\n",
    "### 1.2 Problem description\n",
    "These cities share similar characteristics, are multicultural and the most populous and financial capital of their respective countries but how similar they really are? This question can be answer by comparing the neighborhoods and determine how similar or dissimilar these cities are. \n",
    "### 1.3 Target audience\n",
    "People living in New York who are planning to move to a similar city. This comparison will help them to decide if these cities are a good candidate for them to move in.\n"
   ]
  },
  {
   "cell_type": "markdown",
   "metadata": {},
   "source": [
    "## 2 Data\n",
    "First, we will need to know the boroughs and the neighborhoods that exist in each city as well as the latitude and longitude coordinates of each neighborhood.\\\n",
    "New York has a total of 5 boroughs and 306 neighborhoods. Toronto officially has 140 neighbourhoods. Paris has 20 boroughs (arrondissements) and 80 neighborhoods (quartiers). These datasets are free online. Here, are the links:\\\n",
    "New York:\\\n",
    "https://geo.nyu.edu/catalog/nyu_2451_34572 \\\n",
    "Toronto:\\\n",
    "https://en.wikipedia.org/wiki/List_of_postal_codes_of_Canada:_M, \\\n",
    "http://cocl.us/Geospatial_data \\\n",
    "Paris: \\\n",
    "https://www.data.gouv.fr/fr/datasets/r/e88c6fda-1d09-42a0-a069-606d3259114e \\\n",
    "Next, we will use Foursquare API to explore the neighborhoods and obtain the venues located near by.\n"
   ]
  },
  {
   "cell_type": "code",
   "execution_count": null,
   "metadata": {},
   "outputs": [],
   "source": []
  }
 ],
 "metadata": {
  "kernelspec": {
   "display_name": "Python 3",
   "language": "python",
   "name": "python3"
  },
  "language_info": {
   "codemirror_mode": {
    "name": "ipython",
    "version": 3
   },
   "file_extension": ".py",
   "mimetype": "text/x-python",
   "name": "python",
   "nbconvert_exporter": "python",
   "pygments_lexer": "ipython3",
   "version": "3.7.6"
  }
 },
 "nbformat": 4,
 "nbformat_minor": 4
}
